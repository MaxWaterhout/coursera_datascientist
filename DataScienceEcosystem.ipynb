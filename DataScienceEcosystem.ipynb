{
  "metadata": {
    "kernelspec": {
      "name": "python",
      "display_name": "Python (Pyodide)",
      "language": "python"
    },
    "language_info": {
      "codemirror_mode": {
        "name": "python",
        "version": 3
      },
      "file_extension": ".py",
      "mimetype": "text/x-python",
      "name": "python",
      "nbconvert_exporter": "python",
      "pygments_lexer": "ipython3",
      "version": "3.8"
    }
  },
  "nbformat_minor": 4,
  "nbformat": 4,
  "cells": [
    {
      "cell_type": "markdown",
      "source": "# Data Science Tools and Ecosystem",
      "metadata": {}
    },
    {
      "cell_type": "markdown",
      "source": "## Max title",
      "metadata": {}
    },
    {
      "cell_type": "markdown",
      "source": "This is the introduction in the markdown cell for courseras course for Tools for data science!",
      "metadata": {}
    },
    {
      "cell_type": "markdown",
      "source": "Some programming languages for data scientists are for example: \n1. Java\n2. Python\n3. R",
      "metadata": {}
    },
    {
      "cell_type": "markdown",
      "source": "Some data scientist libraries are \n1. Numpy\n2. Pandas\n3. PyTorch \n4. MatplotLib",
      "metadata": {}
    },
    {
      "cell_type": "markdown",
      "source": "Tools for data scientists\n| Tool         | Description                                      |\n|--------------|--------------------------------------------------|\n| Python       | A versatile programming language commonly used for data analysis, machine learning, and scientific computing.|\n| R            | A programming language and software environment specifically designed for statistical computing and graphics.|\n| TensorFlow   | An open-source machine learning framework developed by Google for building and training neural networks.|",
      "metadata": {}
    },
    {
      "cell_type": "markdown",
      "source": "## Below are a few examples of evaluating arithmetic expressions in Python.\n\n- **Addition**: Adding two numbers together. For example, 3 + 5 equals 8.\n- **Multiplying**: Multiplying two numbers together. For example, 3 * 5 equals 15.",
      "metadata": {}
    },
    {
      "cell_type": "code",
      "source": "def add(x,y):\n    return x+y\n\ndef multiply(x,y):\n    return x*y\nprint(\"adding: \",add(3,5))\nprint(\"multiplying: \", multiply(3,5))\n\n# This a simple arithmetic expression to mutiply then add integers\n(3*4)+5",
      "metadata": {
        "trusted": true
      },
      "outputs": [
        {
          "name": "stdout",
          "text": "adding:  8\nmultiplying:  15\n",
          "output_type": "stream"
        }
      ],
      "execution_count": 2
    },
    {
      "cell_type": "code",
      "source": "def minutes_to_hours(minutes):\n    hours = minutes / 60\n    return hours\n\nminutes = 120\nhours = minutes_to_hours(minutes)\nprint(f\"{minutes} minutes is equal to {hours} hours.\")",
      "metadata": {
        "trusted": true
      },
      "outputs": [
        {
          "name": "stdout",
          "text": "120 minutes is equal to 2.0 hours.\n",
          "output_type": "stream"
        }
      ],
      "execution_count": 3
    },
    {
      "cell_type": "markdown",
      "source": "## Objectives:\n\n- List popular languages for Data Science\n- Introduce key libraries and frameworks used in Data Science\n- Discuss common tasks and workflows in Data Science projects",
      "metadata": {}
    },
    {
      "cell_type": "markdown",
      "source": "## Author\nMax Waterhout",
      "metadata": {}
    },
    {
      "cell_type": "code",
      "source": "",
      "metadata": {
        "trusted": true
      },
      "outputs": [],
      "execution_count": null
    }
  ]
}